{
 "cells": [
  {
   "cell_type": "markdown",
   "metadata": {},
   "source": [
    "# Assignment_2 Answers"
   ]
  },
  {
   "cell_type": "markdown",
   "metadata": {},
   "source": [
    "1.What are the two values of the boolean data types? how do you write them ?\n",
    "\n",
    "Ans: The two boolean values are `True` and `False`. They are used to represent the truth values of logical expressions. These values are case-sensitive, meaning they must be written exactly as shown: with the first letter capitalized and the rest in lowercase."
   ]
  },
  {
   "cell_type": "code",
   "execution_count": 1,
   "metadata": {},
   "outputs": [
    {
     "name": "stdout",
     "output_type": "stream",
     "text": [
      "True <class 'bool'>\n",
      "False <class 'bool'>\n"
     ]
    }
   ],
   "source": [
    "a=True\n",
    "b=False\n",
    "print(a,type(a))\n",
    "print(b,type(b))"
   ]
  },
  {
   "cell_type": "markdown",
   "metadata": {},
   "source": [
    "2. What are the three different types of Boolean operators?\n",
    "\n",
    "Ans: The three different types of boolean operators are 1`and`, `or`, and `not`."
   ]
  },
  {
   "cell_type": "code",
   "execution_count": 3,
   "metadata": {},
   "outputs": [
    {
     "name": "stdout",
     "output_type": "stream",
     "text": [
      "True\n",
      "True\n",
      "False\n"
     ]
    }
   ],
   "source": [
    "a=10\n",
    "b=20\n",
    "print(a>5 and b>10) # Example of boolean and\n",
    "print(a>20 or b>10) # Example of boolean or\n",
    "print(not(a>1)) # Example of boolean not"
   ]
  },
  {
   "cell_type": "markdown",
   "metadata": {},
   "source": [
    "3. Make a list of each Boolean operator's truth tables (i.e. every possible combination of Boolean values for the operator and what it evaluate) ?\n",
    "\n",
    "Ans: The Truth tables for the boolean tables are as follows:\n",
    "\n",
    "* Truth Table for `and` operator<br>\n",
    "`True` and `True` is `True`<br>\n",
    "`True` and `False` is `False`<br>\n",
    "`False` and `True` is `False`<br>\n",
    "`False` and `False` is `False`<br>\n",
    "\n",
    "* Truth Table for `or` operator<br>\n",
    "`True` and `True` is `True`<br>\n",
    "`True` and `False` is `True`<br>\n",
    "`False` and `True` is `True`<br>\n",
    "`False` and `False` is `False`<br>\n",
    "\n",
    "* Truth Table for `not` operator<br>\n",
    "not `True` is `False`<br>\n",
    "not `False` is `True`<br>"
   ]
  },
  {
   "cell_type": "markdown",
   "metadata": {},
   "source": [
    "4. What are the values of the following expressions ?\n",
    "* (5 > 4) and (3 == 5)<br>\n",
    "* not (5 > 4)<br>\n",
    "* (5 > 4) or (3 == 5)<br>\n",
    "* not ((5 > 4) or (3 == 5))<br>\n",
    "* (True and True) and (True == False)<br>\n",
    "* (not False) or (not True)<br>\n",
    "\n",
    "Ans: <br>\n",
    "1. (5 > 4) and (3 == 5) ==> False as 3 is not equal to 5.\n",
    "2. not (5 > 4) ==> False as 5 > 4 is True and its negation is False.\n",
    "3. (5 > 4) or (3 == 5) ==> True as 5 > 4 is true. Even 1 input as true in or gives true.\n",
    "4. not ((5 > 4) or (3 == 5)) ==> negation of true is false.\n",
    "5. (True and True) and (True == False) ==> True is not equal to False. And needs both input as true to be true.\n",
    "6. (not False) or (not True) ==> not False gives True, so the or operator gives True as i input is True."
   ]
  },
  {
   "cell_type": "code",
   "execution_count": 4,
   "metadata": {},
   "outputs": [
    {
     "name": "stdout",
     "output_type": "stream",
     "text": [
      "False\n",
      "False\n",
      "True\n",
      "False\n",
      "False\n",
      "True\n"
     ]
    }
   ],
   "source": [
    "print((5>4)and(3==5)) # False\n",
    "print(not(5>4)) # False\n",
    "print((5>4)or(3==5)) # True\n",
    "print(not((5>4)or(3==5))) # False\n",
    "print((True and True)and(True==False)) # False\n",
    "print((not False)or(not True)) # True"
   ]
  },
  {
   "cell_type": "markdown",
   "metadata": {},
   "source": [
    "5. What are the six comparison operators?\n",
    "\n",
    "Ans: The Six comparison operators are mentioned below:<br>\n",
    "`==` , `!=` , `<` , `>` , `<=` , `=>`"
   ]
  },
  {
   "cell_type": "markdown",
   "metadata": {},
   "source": [
    "6. How do you tell the difference between the equal to and assignment operators?Describe a condition and when you would use one ?\n",
    "\n",
    "Ans: `==` is the equal to operator that compares two values and evaluates to a Boolean, while `=` is that assignment operator that stores a value in a variable."
   ]
  },
  {
   "cell_type": "code",
   "execution_count": 5,
   "metadata": {},
   "outputs": [
    {
     "name": "stdout",
     "output_type": "stream",
     "text": [
      "True\n"
     ]
    }
   ],
   "source": [
    "x=10 # Assigning operator that stores 10 value in a variable x\n",
    "if x<=50: #comparing values of x and 10\n",
    "    print(x==10)  "
   ]
  },
  {
   "cell_type": "markdown",
   "metadata": {},
   "source": [
    "7. Identify the three blocks in this code:<br>\n",
    "spam = 0<br>\n",
    "if spam == 10:<br>\n",
    "&ensp;print(&#39;eggs&#39;)<br>\n",
    "if spam &gt; 5:<br>\n",
    "&ensp;print(&#39;bacon&#39;)<br>\n",
    "else:<br>\n",
    "&ensp;print(&#39;ham&#39;)<br>\n",
    "print(&#39;spam&#39;)<br>\n",
    "print(&#39;spam&#39;)<br>\n",
    "\n",
    "Ans: In Python, code block refers to a collection of code that is in the same block or indent. This is most commonly found in classes, functions, and loops.\n",
    "<br>\n",
    "Block 1:<br>\n",
    "if spam == 10:<br>\n",
    "&ensp;print(&#39;eggs&#39;)<br>\n",
    "\n",
    "Block 2:<br>\n",
    "if spam &gt; 5:<br>\n",
    "&ensp;print(&#39;bacon&#39;)<br>\n",
    "\n",
    "Block 3:<br>\n",
    "else:<br>\n",
    "&ensp;print(&#39;ham&#39;)<br>"
   ]
  },
  {
   "cell_type": "code",
   "execution_count": 6,
   "metadata": {},
   "outputs": [
    {
     "name": "stdout",
     "output_type": "stream",
     "text": [
      "ham\n",
      "spam\n",
      "spam\n"
     ]
    }
   ],
   "source": [
    "spam = 0  \n",
    "if spam == 10:  \n",
    "    print('eggs')  # block #1\n",
    "if spam > 5:  \n",
    "    print('bacon')  # block #2\n",
    "else:  \n",
    "    print('ham')  # block #3\n",
    "print('spam')  \n",
    "print('spam')"
   ]
  },
  {
   "cell_type": "markdown",
   "metadata": {},
   "source": [
    "8. Write code that prints Hello if 1 is stored in spam, prints Howdy if 2 is stored in spam, and prints Greetings! if anything else is stored in spam."
   ]
  },
  {
   "cell_type": "code",
   "execution_count": 7,
   "metadata": {},
   "outputs": [
    {
     "name": "stdout",
     "output_type": "stream",
     "text": [
      "Hello\n",
      "Howdy\n",
      "Greetings\n"
     ]
    }
   ],
   "source": [
    "def spamCode(spam):\n",
    "    if spam==1:\n",
    "        print('Hello')\n",
    "    elif spam==2:\n",
    "        print('Howdy')\n",
    "    else:\n",
    "        print('Greetings')\n",
    "        \n",
    "spamCode(1) \n",
    "spamCode(2)\n",
    "spamCode(3)"
   ]
  },
  {
   "cell_type": "markdown",
   "metadata": {},
   "source": [
    "9.If your programme is stuck in an endless loop, what keys you’ll press?\n",
    "\n",
    "Ans: Press Ctrl-c to stop a program stuck in an infinite loop in a Terminal.\n",
    "If in jupyter notebook, click the stop excution button."
   ]
  },
  {
   "cell_type": "markdown",
   "metadata": {},
   "source": [
    "10. How can you tell the difference between break and continue?\n",
    "\n",
    "Ans: The `break` statement will move the execution outside the loop if break condtion is satisfied. Whereas the `continue` statement will move the execution to the start of the loop."
   ]
  },
  {
   "cell_type": "markdown",
   "metadata": {},
   "source": [
    "11. In a for loop, what is the difference between range(10), range(0, 10), and range(0, 10, 1)?\n",
    "\n",
    "Ans: The Differences are as follows:\n",
    "\n",
    "1. The range(10) call range from 0 to 9 (exclude 10)\n",
    "2. The range (0,10) explicitly tells the loop to start from 0 till 9(exclude 10)\n",
    "3. The range(0,10,1) explicitly tells the loop to increase the variable by 1 on each iteration, ranges from  0 to 9 with increment of 1(exclude 10)"
   ]
  },
  {
   "cell_type": "markdown",
   "metadata": {},
   "source": [
    "12. Write a short program that prints the numbers 1 to 10 using a for loop. Then write an equivalent program that prints the numbers 1 to 10 using a while loop ?"
   ]
  },
  {
   "cell_type": "code",
   "execution_count": 8,
   "metadata": {},
   "outputs": [
    {
     "name": "stdout",
     "output_type": "stream",
     "text": [
      "Using For Loop:\n",
      "1 2 3 4 5 6 7 8 9 10 \n",
      "\n",
      "Using While Loop:\n",
      "1 2 3 4 5 6 7 8 9 10 "
     ]
    }
   ],
   "source": [
    "print('Using For Loop:')\n",
    "for i in range(1,11):\n",
    "    print(i, end=\" \")\n",
    "print('\\n')\n",
    "print('Using While Loop:') \n",
    "i=1\n",
    "while i<=10:\n",
    "    print(i, end=\" \")\n",
    "    i+=1"
   ]
  },
  {
   "cell_type": "markdown",
   "metadata": {},
   "source": [
    "13. If you had a function named bacon() inside a module named spam, how would you call it after importing spam ?\n",
    "\n",
    "Ans: The given function can be called using spam.bacon()."
   ]
  },
  {
   "cell_type": "markdown",
   "metadata": {},
   "source": []
  }
 ],
 "metadata": {
  "kernelspec": {
   "display_name": "base",
   "language": "python",
   "name": "python3"
  },
  "language_info": {
   "codemirror_mode": {
    "name": "ipython",
    "version": 3
   },
   "file_extension": ".py",
   "mimetype": "text/x-python",
   "name": "python",
   "nbconvert_exporter": "python",
   "pygments_lexer": "ipython3",
   "version": "3.10.9"
  },
  "orig_nbformat": 4
 },
 "nbformat": 4,
 "nbformat_minor": 2
}
