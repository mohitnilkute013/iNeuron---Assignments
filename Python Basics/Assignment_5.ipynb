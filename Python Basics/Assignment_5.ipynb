{
 "cells": [
  {
   "cell_type": "markdown",
   "metadata": {},
   "source": [
    "## Assignment 5 Answers"
   ]
  },
  {
   "cell_type": "markdown",
   "metadata": {},
   "source": [
    "1. What does an empty dictionary&#39;s code look like?\n",
    "\n",
    "Ans: An empty dictionary is often represented by two empty curly brackets\n",
    "d = {} or d = dict()"
   ]
  },
  {
   "cell_type": "code",
   "execution_count": 3,
   "metadata": {},
   "outputs": [
    {
     "name": "stdout",
     "output_type": "stream",
     "text": [
      "{}\n",
      "<class 'dict'>\n"
     ]
    }
   ],
   "source": [
    "d = {}\n",
    "print(d)\n",
    "print(type(d))"
   ]
  },
  {
   "cell_type": "markdown",
   "metadata": {},
   "source": [
    "2. What is the value of a dictionary value with the key &#39;foo&#39; and the value 42?\n",
    "\n",
    "Ans: This dictionary will have one key value pair. i.e. `{'foo':42}`"
   ]
  },
  {
   "cell_type": "markdown",
   "metadata": {},
   "source": [
    "3. What is the most significant distinction between a dictionary and a list?\n",
    "\n",
    "Ans: The most significant distinction between a dictionary and a list is that a dictionary is a collection of key-value pairs, where each value is accessed using its associated key, while a list is an ordered collection of elements accessed by their numerical index. In a dictionary, the keys are unique and used to retrieve the corresponding values, providing a more flexible and efficient way to store and retrieve data based on specific labels. In contrast, a list is ordered and elements are accessed by their positions, making it suitable for sequences of items where the order matters."
   ]
  },
  {
   "cell_type": "markdown",
   "metadata": {},
   "source": [
    "4. What happens if you try to access spam[&#39;foo&#39;] if spam is {&#39;bar&#39;: 100}?\n",
    "\n",
    "Ans: We will get a keyError `KeyError: 'foo'` as key `foo` is not present in the dictionary."
   ]
  },
  {
   "cell_type": "markdown",
   "metadata": {},
   "source": [
    "5. If a dictionary is stored in spam, what is the difference between the expressions &#39;cat&#39; in spam and\n",
    "&#39;cat&#39; in spam.keys()?\n",
    "\n",
    "Ans: There is no difference. The `in` operator checks whether a value exits as a key in the dictionary or not."
   ]
  },
  {
   "cell_type": "markdown",
   "metadata": {},
   "source": [
    "6. If a dictionary is stored in spam, what is the difference between the expressions &#39;cat&#39; in spam and\n",
    "&#39;cat&#39; in spam.values()?\n",
    "\n",
    "Ans: 'cat' in spam checks whether there is a 'cat' key in the dictionary, while 'cat' in spam.values() checks whether there is a value 'cat' for one of the keys in spam."
   ]
  },
  {
   "cell_type": "markdown",
   "metadata": {},
   "source": [
    "7. What is a shortcut for the following code?<br>\n",
    "if &#39;color&#39; not in spam:<br>\n",
    "&ensp;spam[&#39;color&#39;] = &#39;black&#39;\n",
    "\n",
    "Ans: spam.setdefault('color','black')<br>\n",
    "This method checks if the key 'color' is already present in the spam dictionary. If not, it adds the key-value pair with the default value 'black'. If the key is already present, it doesn't change the existing value."
   ]
  },
  {
   "cell_type": "markdown",
   "metadata": {},
   "source": [
    "8. How do you &quot;pretty print&quot; dictionary values using which module and function?\n",
    "\n",
    "Ans: We can pretty print a dictionary using three functions\n",
    "\n",
    "1. by using pprint() function of pprint module<br> Note: pprint() function does not prettify nested dictionaries<br>\n",
    "2. by using dumps() method of json module<br>\n",
    "3. by using dumps() method of yaml module<br>"
   ]
  },
  {
   "cell_type": "code",
   "execution_count": 4,
   "metadata": {},
   "outputs": [
    {
     "name": "stdout",
     "output_type": "stream",
     "text": [
      "Printing using print() function\n",
      " [{'Name': 'John', 'Age': '23', 'Residence': {'Country': 'USA', 'City': 'New York'}}, {'Name': 'Jose', 'Age': '44', 'Residence': {'Country': 'Spain', 'City': 'Madrid'}}, {'Name': 'Anne', 'Age': '29', 'Residence': {'Country': 'UK', 'City': 'England'}}, {'Name': 'Lee', 'Age': '35', 'Residence': {'Country': 'Japan', 'City': 'Osaka'}}]\n",
      "----------------------------------------------------------------------\n",
      "Printing using pprint() function\n",
      "[{'Age': '23',\n",
      "  'Name': 'John',\n",
      "  'Residence': {'City': 'New York', 'Country': 'USA'}},\n",
      " {'Age': '44',\n",
      "  'Name': 'Jose',\n",
      "  'Residence': {'City': 'Madrid', 'Country': 'Spain'}},\n",
      " {'Age': '29',\n",
      "  'Name': 'Anne',\n",
      "  'Residence': {'City': 'England', 'Country': 'UK'}},\n",
      " {'Age': '35',\n",
      "  'Name': 'Lee',\n",
      "  'Residence': {'City': 'Osaka', 'Country': 'Japan'}}]\n",
      "----------------------------------------------------------------------\n",
      "Printing using dumps() method\n",
      " [\n",
      "    {\n",
      "        \"Name\": \"John\",\n",
      "        \"Age\": \"23\",\n",
      "        \"Residence\": {\n",
      "            \"Country\": \"USA\",\n",
      "            \"City\": \"New York\"\n",
      "        }\n",
      "    },\n",
      "    {\n",
      "        \"Name\": \"Jose\",\n",
      "        \"Age\": \"44\",\n",
      "        \"Residence\": {\n",
      "            \"Country\": \"Spain\",\n",
      "            \"City\": \"Madrid\"\n",
      "        }\n",
      "    },\n",
      "    {\n",
      "        \"Name\": \"Anne\",\n",
      "        \"Age\": \"29\",\n",
      "        \"Residence\": {\n",
      "            \"Country\": \"UK\",\n",
      "            \"City\": \"England\"\n",
      "        }\n",
      "    },\n",
      "    {\n",
      "        \"Name\": \"Lee\",\n",
      "        \"Age\": \"35\",\n",
      "        \"Residence\": {\n",
      "            \"Country\": \"Japan\",\n",
      "            \"City\": \"Osaka\"\n",
      "        }\n",
      "    }\n",
      "]\n",
      "----------------------------------------------------------------------\n",
      "Printing using dump() method\n",
      " - Age: '23'\n",
      "  Name: John\n",
      "  Residence:\n",
      "    City: New York\n",
      "    Country: USA\n",
      "- Age: '44'\n",
      "  Name: Jose\n",
      "  Residence:\n",
      "    City: Madrid\n",
      "    Country: Spain\n",
      "- Age: '29'\n",
      "  Name: Anne\n",
      "  Residence:\n",
      "    City: England\n",
      "    Country: UK\n",
      "- Age: '35'\n",
      "  Name: Lee\n",
      "  Residence:\n",
      "    City: Osaka\n",
      "    Country: Japan\n",
      "\n"
     ]
    }
   ],
   "source": [
    "ndict = [\n",
    "  {'Name': 'John', 'Age': '23', 'Residence': {'Country':'USA', 'City': 'New York'}},\n",
    "  {'Name': 'Jose', 'Age': '44', 'Residence': {'Country':'Spain', 'City': 'Madrid'}},\n",
    "  {'Name': 'Anne', 'Age': '29', 'Residence': {'Country':'UK', 'City': 'England'}},\n",
    "  {'Name': 'Lee', 'Age': '35', 'Residence': {'Country':'Japan', 'City': 'Osaka'}}\n",
    "]\n",
    "\n",
    "print('Printing using print() function\\n',ndict)\n",
    "print('-'*70)\n",
    "import pprint\n",
    "print('Printing using pprint() function')\n",
    "pprint.pprint(ndict)\n",
    "print('-'*70)\n",
    "import json\n",
    "dump = json.dumps(ndict, indent=4)\n",
    "print('Printing using dumps() method\\n', dump)\n",
    "print('-'*70)\n",
    "import yaml\n",
    "dump = yaml.dump(ndict)\n",
    "print('Printing using dump() method\\n', dump)"
   ]
  },
  {
   "cell_type": "code",
   "execution_count": null,
   "metadata": {},
   "outputs": [],
   "source": []
  }
 ],
 "metadata": {
  "kernelspec": {
   "display_name": "base",
   "language": "python",
   "name": "python3"
  },
  "language_info": {
   "codemirror_mode": {
    "name": "ipython",
    "version": 3
   },
   "file_extension": ".py",
   "mimetype": "text/x-python",
   "name": "python",
   "nbconvert_exporter": "python",
   "pygments_lexer": "ipython3",
   "version": "3.10.9"
  },
  "orig_nbformat": 4
 },
 "nbformat": 4,
 "nbformat_minor": 2
}
