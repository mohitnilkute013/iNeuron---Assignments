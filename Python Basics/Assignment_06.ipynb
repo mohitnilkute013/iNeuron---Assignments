{
 "cells": [
  {
   "cell_type": "markdown",
   "metadata": {},
   "source": [
    "## Assignment 6 Answers"
   ]
  },
  {
   "cell_type": "markdown",
   "metadata": {},
   "source": [
    "1. What are escape characters, and how do you use them?\n",
    "\n",
    "Ans: Escape characters are special characters in a string that are preceded by a backslash. They are used to represent characters that cannot be easily typed or printed directly, such as newline, tab, or quotation marks, among others.\n",
    "\n",
    "Here are some commonly used escape characters and their meanings:\n",
    "\n",
    "<li>\\n: Newline (line break)</li>\n",
    "<li>\\t: Tab</li>\n",
    "<li>\\\": Double quotation mark</li>\n",
    "<li>\\': Single quotation mark</li>\n",
    "<li>\\\\: Backslash</li>"
   ]
  },
  {
   "cell_type": "markdown",
   "metadata": {},
   "source": [
    "2. What do the escape characters n and t stand for?\n",
    "\n",
    "Ans: <li>\\n: Newline (line break)</li>\n",
    "<li>\\t: Tab</li>"
   ]
  },
  {
   "cell_type": "markdown",
   "metadata": {},
   "source": [
    "3. What is the way to include backslash characters in a string?\n",
    "\n",
    "Ans: The `\\\\` escape character will represent the backslash character in a string."
   ]
  },
  {
   "cell_type": "markdown",
   "metadata": {},
   "source": [
    "4. The string &quot;Howl&#39;s Moving Castle&quot; is a correct value. Why isn&#39;t the single quote character in the\n",
    "word Howl&#39;s not escaped a problem?\n",
    "\n",
    "Ans: The string \"Howl's Moving Castle\" escaped the problem because it is wrapped inside double quotes. if its wrapped inside single quotes then we have to use escape character `\\'` to show single quote in the final output."
   ]
  },
  {
   "cell_type": "markdown",
   "metadata": {},
   "source": [
    "5. How do you write a string of newlines if you don&#39;t want to use the n character?\n",
    "\n",
    "Ans: Multiline string allow you to use newlines in string without the \\n escape character."
   ]
  },
  {
   "cell_type": "code",
   "execution_count": 1,
   "metadata": {},
   "outputs": [
    {
     "name": "stdout",
     "output_type": "stream",
     "text": [
      "iNeuron full stack\n",
      "Data Science Course\n"
     ]
    }
   ],
   "source": [
    "# Example:\n",
    "a = '''iNeuron full stack\n",
    "Data Science Course'''\n",
    "print(a)"
   ]
  },
  {
   "cell_type": "markdown",
   "metadata": {},
   "source": [
    "6. What are the values of the given expressions?<br>\n",
    "&#39;Hello, world!&#39;[1]<br>\n",
    "&#39;Hello, world!&#39;[0:5]<br>\n",
    "&#39;Hello, world!&#39;[:5]<br>\n",
    "&#39;Hello, world!&#39;[3:]<br>\n",
    "\n",
    "Ans: The values for the given expressions are:<br>\n",
    "`'Hello, world!'[1]` -> `'e'`<br>\n",
    "`'Hello, world!'[0:5]` -> `'Hello'`<br>\n",
    "`'Hello, world!'[:5]` -> `'Hello'`<br>\n",
    "`'Hello, world!'[3:]` -> `'lo, world!'`<br>"
   ]
  },
  {
   "cell_type": "markdown",
   "metadata": {},
   "source": [
    "7. What are the values of the following expressions?<br>\n",
    "&#39;Hello&#39;.upper()<br>\n",
    "&#39;Hello&#39;.upper().isupper()<br>\n",
    "&#39;Hello&#39;.upper().lower()<br>\n",
    "\n",
    "Ans: The values for the given expressions are:<br>\n",
    "`'Hello'.upper()` -> `'HELLO'` -> Converts all letters to upper<br>\n",
    "`'Hello'.upper().isupper()` -> `True` -> Checks if all letters are upper<br>\n",
    "`'Hello'.upper().lower()` -> `'hello'` -> Converts all letters to lower<br>"
   ]
  },
  {
   "cell_type": "markdown",
   "metadata": {},
   "source": [
    "8. What are the values of the following expressions?<br>\n",
    "&#39;Remember, remember, the fifth of July.&#39;.split()<br>\n",
    "&#39;-&#39;.join(&#39;There can only one.&#39;.split())<br>\n",
    "\n",
    "Ans: The values for the given expressions are:<br>\n",
    "`'Remember, remember, the fifith of July.'.split()` -> `['Remember,', 'remember,', 'the', 'fifith', 'of', 'July.']` -> Gives the list of all words separated by `' '`.<br>\n",
    "`'-'.join('There can only one'.split())` -> `'There-can-only-one'` -> Gives a string with all words joined with `'-'`<br>"
   ]
  },
  {
   "cell_type": "markdown",
   "metadata": {},
   "source": [
    "9. What are the methods for right-justifying, left-justifying, and centering a string?\n",
    "\n",
    "Ans: We can use the rjust(), ljust(), center() string methods, respectively."
   ]
  },
  {
   "cell_type": "markdown",
   "metadata": {},
   "source": [
    "10. What is the best way to remove whitespace characters from the start or end?\n",
    "\n",
    "Ans: We can use the strip() method to remove the spaces from both start and end. The lstrip() and rstrip() methods remove whitesapce characters from the left and right ends of a string respectively."
   ]
  },
  {
   "cell_type": "markdown",
   "metadata": {},
   "source": []
  }
 ],
 "metadata": {
  "kernelspec": {
   "display_name": "base",
   "language": "python",
   "name": "python3"
  },
  "language_info": {
   "codemirror_mode": {
    "name": "ipython",
    "version": 3
   },
   "file_extension": ".py",
   "mimetype": "text/x-python",
   "name": "python",
   "nbconvert_exporter": "python",
   "pygments_lexer": "ipython3",
   "version": "3.10.9"
  },
  "orig_nbformat": 4
 },
 "nbformat": 4,
 "nbformat_minor": 2
}
