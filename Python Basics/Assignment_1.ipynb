{
 "cells": [
  {
   "cell_type": "markdown",
   "metadata": {},
   "source": [
    "# Assignment_1 Answers"
   ]
  },
  {
   "cell_type": "markdown",
   "metadata": {},
   "source": [
    "1. In the below elements which of them are values or an expression? eg:- values can be\n",
    "integer or string and expressions will be mathematical operators.\n",
    "\n",
    "    *, 'hello', -87.8, -, /, +, 6\n",
    "\n",
    "    Ans: In the given question, there are 4 Operators and 3 Expressions.\n",
    "    They are:\n",
    "    Operators: *, -, /, +\n",
    "    Expressions: 'hello', 87.8, 6"
   ]
  },
  {
   "cell_type": "markdown",
   "metadata": {},
   "source": [
    "2. What is the difference between string and variable?\n",
    "\n",
    "    Ans: A Variable is type of container to store information and values of different data types. A String is a data type for characters and textual data. The string is enclosed in double quotes and single quotes.\n",
    "\n",
    "    Example: \n",
    "    Variable: x = 5, s = \"string\"\n",
    "    String: \"Hello\""
   ]
  },
  {
   "cell_type": "markdown",
   "metadata": {},
   "source": [
    "3. Describe three different data types.\n",
    "\n",
    "    Ans: The types of data types in python are: Numeric, Dictionary, Boolean, Set, Sequence Type\n",
    "\n",
    "    And the Three fundamental datatypes are:\n",
    "\n",
    "    1) String (immutable) - To represent text data and alphabets or characters EX: 'Hello' or \"Hello\"\n",
    "    2) Integer(mutable)- To represent whole numbers (integral values) EX: 5,67890 etc..\n",
    "    3) Float/Decimal- To represent floating point numbers(decimal values) 4.5 , .67e+2 etc...\n"
   ]
  },
  {
   "cell_type": "code",
   "execution_count": 1,
   "metadata": {},
   "outputs": [
    {
     "name": "stdout",
     "output_type": "stream",
     "text": [
      "hello <class 'str'>\n",
      "5 <class 'int'>\n",
      "5.2 <class 'float'>\n"
     ]
    }
   ],
   "source": [
    "#Examples for string, int, float data type\n",
    "x = \"hello\"\n",
    "print(x, type(x))\n",
    "x = 5\n",
    "print(x, type(x))\n",
    "x = 5.2\n",
    "print(x, type(x))"
   ]
  },
  {
   "cell_type": "markdown",
   "metadata": {},
   "source": [
    "4. What is an expression made up of? What do all expressions do?\n",
    "\n",
    "    Ans: An expression is composed of operators, operands, and functions, combined in a specific order. Expressions compute a value by performing operations on given inputs. They are fundamental in programming and mathematics, enabling calculations, comparisons, and transformations in various contexts."
   ]
  },
  {
   "cell_type": "code",
   "execution_count": 2,
   "metadata": {},
   "outputs": [
    {
     "data": {
      "text/plain": [
       "'30 Hello'"
      ]
     },
     "execution_count": 2,
     "metadata": {},
     "output_type": "execute_result"
    }
   ],
   "source": [
    "#Example of an expression:\n",
    "x = 6\n",
    "str(x * 5) +\" Hello\""
   ]
  },
  {
   "cell_type": "markdown",
   "metadata": {},
   "source": [
    "5. This assignment statements, like spam = 10. What is the difference between an xpression and a statement?\n",
    "\n",
    "    Ans: In programming, both expressions and statements are fundamental concepts, but they serve different purposes and have distinct characteristics.\n",
    "\n",
    "    Expression:\n",
    "    An expression is a combination of values, variables, operators, and function calls that can be evaluated to produce a single value.\n",
    "\n",
    "    Ex: x * y is an expression that evaluates to the product of the values of variables x and y.\n",
    "\n",
    "    Statement:\n",
    "    A statement is a complete line of code that performs an action or a sequence of actions. Statements can include expressions, assignments, control structures (if, while, for), function calls, and more.\n",
    "\n",
    "    Ex: if x > 0: print(\"Positive\") is a statement that uses the if control structure to conditionally print a message based on the value of x.\n",
    "\n",
    "    Difference:\n",
    "    The key difference between expressions and statements is that expressions produce values, while statements perform actions. Expressions are used within statements to compute values that are needed for the program's logic.\n",
    "\n",
    "    An expression evaluates to something, while a statement executes some action or updates its state"
   ]
  },
  {
   "cell_type": "markdown",
   "metadata": {},
   "source": [
    "6. After running the following code, what does the variable bacon contain?\n",
    "bacon = 22\n",
    "bacon + 1\n",
    "\n",
    "    Ans: The variable bacon contains the value 22 after running the code as the variable bacon is not reassigned with the increment value."
   ]
  },
  {
   "cell_type": "code",
   "execution_count": 3,
   "metadata": {},
   "outputs": [
    {
     "name": "stdout",
     "output_type": "stream",
     "text": [
      "22\n"
     ]
    }
   ],
   "source": [
    "bacon = 22\n",
    "bacon + 1\n",
    "print(bacon)"
   ]
  },
  {
   "cell_type": "markdown",
   "metadata": {},
   "source": [
    "If we want to increment the value in the variable, we need to reassing the incremented value to the variable ( bacon = bacon + 1)"
   ]
  },
  {
   "cell_type": "code",
   "execution_count": 4,
   "metadata": {},
   "outputs": [
    {
     "name": "stdout",
     "output_type": "stream",
     "text": [
      "23\n"
     ]
    }
   ],
   "source": [
    "bacon = 22\n",
    "bacon = bacon + 1\n",
    "print(bacon)"
   ]
  },
  {
   "cell_type": "markdown",
   "metadata": {},
   "source": [
    "7. What should the values of the following two terms be?\n",
    "\n",
    "    &#39;spam&#39; + &#39;spamspam&#39;\n",
    "\n",
    "    &#39;spam&#39; * 3\n",
    "\n",
    "    Ans: Both expressions evaluate to the string 'spamspamspam' Where as the first expression follows String Concatentation and the second expression follows String Multiplication"
   ]
  },
  {
   "cell_type": "code",
   "execution_count": 5,
   "metadata": {},
   "outputs": [
    {
     "name": "stdout",
     "output_type": "stream",
     "text": [
      "spamspamspam\n",
      "spamspamspam\n"
     ]
    }
   ],
   "source": [
    "print('spam'+'spamspam') # string concatenation\n",
    "print('spam'*3) # string multiplication"
   ]
  },
  {
   "cell_type": "markdown",
   "metadata": {},
   "source": [
    "8. Why is eggs a valid variable name while 100 is invalid?\n",
    "\n",
    "    Ans: Variable names in most programming languages, including Python, have certain rules and conventions that dictate what characters can be used and how variable names should be formed.\n",
    "\n",
    "    eggs is a valid variable name:\n",
    "\n",
    "    Variable names can start with a letter (uppercase or lowercase) or an underscore (_).\n",
    "    Variable names can contain alphanumeric characters (letters, digits, and underscores).\n",
    "    Since \"eggs\" starts with a letter and contains only letters, it is a valid variable name.\n",
    "\n",
    "    100 is an invalid variable name:\n",
    "    \n",
    "    Variable names cannot start with a digit.\n",
    "    Variable names must start with a letter or an underscore.\n",
    "    Since \"100\" starts with a digit, it is not a valid variable name."
   ]
  },
  {
   "cell_type": "code",
   "execution_count": 6,
   "metadata": {},
   "outputs": [
    {
     "ename": "SyntaxError",
     "evalue": "cannot assign to literal (2302398586.py, line 3)",
     "output_type": "error",
     "traceback": [
      "\u001b[1;36m  Cell \u001b[1;32mIn[6], line 3\u001b[1;36m\u001b[0m\n\u001b[1;33m    100='hello' # Invalid Variable Initilization - gives error\u001b[0m\n\u001b[1;37m    ^\u001b[0m\n\u001b[1;31mSyntaxError\u001b[0m\u001b[1;31m:\u001b[0m cannot assign to literal\n"
     ]
    }
   ],
   "source": [
    "egg='Ineuron' # Valid variable Initilization\n",
    "print(egg) #prints the value of egg ie Ineuron\n",
    "100='hello' # Invalid Variable Initilization - gives error"
   ]
  },
  {
   "cell_type": "markdown",
   "metadata": {},
   "source": [
    "9.What three functions can be used to get the integer, floating-point number, or string version of a value?\n",
    "\n",
    "Ans: The int(),float(),and str() functions will evaluate to the integer,floating-point number,string version of the value passed to them."
   ]
  },
  {
   "cell_type": "code",
   "execution_count": 7,
   "metadata": {},
   "outputs": [
    {
     "name": "stdout",
     "output_type": "stream",
     "text": [
      "int(10.0) :  10\n",
      "float(10) :  10.0\n",
      "str(10) :  10\n"
     ]
    }
   ],
   "source": [
    "# Examples:\n",
    "print('int(10.0) : ',int(10.0)) # int() function converts the value to int\n",
    "print('float(10) : ',float('10')) # float() function converts the value to float\n",
    "print('str(10) : ',str(10)) # str() function converts the value to string"
   ]
  },
  {
   "cell_type": "markdown",
   "metadata": {},
   "source": [
    "10. Why does this expression cause an error? How can you fix it?\n",
    "\n",
    "    &#39;I have eaten &#39; + 99 + &#39; burritos.&#39;\n",
    "    \n",
    "    Ans: + is used for concatenation in strings. Python cannot cancatenate integer value with string value. As 99 is a string value, we will get an type error saying wrong data types used for performing operations."
   ]
  },
  {
   "cell_type": "code",
   "execution_count": 8,
   "metadata": {},
   "outputs": [
    {
     "ename": "TypeError",
     "evalue": "can only concatenate str (not \"int\") to str",
     "output_type": "error",
     "traceback": [
      "\u001b[1;31m---------------------------------------------------------------------------\u001b[0m",
      "\u001b[1;31mTypeError\u001b[0m                                 Traceback (most recent call last)",
      "Cell \u001b[1;32mIn[8], line 1\u001b[0m\n\u001b[1;32m----> 1\u001b[0m \u001b[39mprint\u001b[39m(\u001b[39m'\u001b[39;49m\u001b[39mI have eaten \u001b[39;49m\u001b[39m'\u001b[39;49m\u001b[39m+\u001b[39;49m \u001b[39m99\u001b[39;49m \u001b[39m+\u001b[39m\u001b[39m'\u001b[39m\u001b[39m burritos\u001b[39m\u001b[39m'\u001b[39m)\n",
      "\u001b[1;31mTypeError\u001b[0m: can only concatenate str (not \"int\") to str"
     ]
    }
   ],
   "source": [
    "print('I have eaten '+ 99 +' burritos')"
   ]
  },
  {
   "cell_type": "code",
   "execution_count": 9,
   "metadata": {},
   "outputs": [
    {
     "name": "stdout",
     "output_type": "stream",
     "text": [
      "I have eaten 99 burritos\n"
     ]
    }
   ],
   "source": [
    "print('I have eaten '+str(99)+' burritos')"
   ]
  },
  {
   "cell_type": "code",
   "execution_count": null,
   "metadata": {},
   "outputs": [],
   "source": []
  }
 ],
 "metadata": {
  "kernelspec": {
   "display_name": "base",
   "language": "python",
   "name": "python3"
  },
  "language_info": {
   "codemirror_mode": {
    "name": "ipython",
    "version": 3
   },
   "file_extension": ".py",
   "mimetype": "text/x-python",
   "name": "python",
   "nbconvert_exporter": "python",
   "pygments_lexer": "ipython3",
   "version": "3.8.17"
  },
  "orig_nbformat": 4
 },
 "nbformat": 4,
 "nbformat_minor": 2
}
