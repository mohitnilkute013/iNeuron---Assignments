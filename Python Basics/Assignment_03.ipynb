{
 "cells": [
  {
   "cell_type": "markdown",
   "metadata": {},
   "source": [
    "# Assignment 3 Answers"
   ]
  },
  {
   "cell_type": "markdown",
   "metadata": {},
   "source": [
    "1. Why are functions advantageous to have in your programs?\n",
    "\n",
    "Ans: Functions are advantageous in programs because they promote code organization, reusability, and modularity. They allow you to encapsulate a set of instructions into a single unit that can be easily invoked whenever needed. This enhances code readability, reduces redundancy, and makes debugging and maintenance more efficient. Functions enable you to break down complex tasks into smaller, manageable parts, making your codebase more organized and easier to understand."
   ]
  },
  {
   "cell_type": "markdown",
   "metadata": {},
   "source": [
    "2. When does the code in a function run: when it&#39;s specified or when it&#39;s called?\n",
    "\n",
    "Ans: The code in a function executes when the function is called, not when the function is specified/defined."
   ]
  },
  {
   "cell_type": "markdown",
   "metadata": {},
   "source": [
    "3. What statement creates a function?\n",
    "\n",
    "Ans: The `def` statement defines a function\n",
    "Syntax of Function:\n",
    "def function_name(parameters):<br> \n",
    "\"\"\"doc string\"\"\" <br>\n",
    "-----function body----- <br>\n",
    "-----function body----- <br>\n",
    "return value<br>"
   ]
  },
  {
   "cell_type": "markdown",
   "metadata": {},
   "source": [
    "4. What is the difference between a function and a function call?\n",
    "\n",
    "Ans: A function is a block of code designed to perform a specific task or set of tasks. It defines the logic and behavior to achieve the desired outcome. A function call, on the other hand, is the act of invoking or executing a specific function to perform its defined tasks. In short, a function is a defined piece of code, while a function call is the action of using that code to achieve a specific result."
   ]
  },
  {
   "cell_type": "markdown",
   "metadata": {},
   "source": [
    "5. How many global scopes are there in a Python program? How many local scopes?\n",
    "\n",
    "Ans: There is one global scope, and a local scope is created whenever a function is called."
   ]
  },
  {
   "cell_type": "markdown",
   "metadata": {},
   "source": [
    "6. What happens to variables in a local scope when the function call returns?\n",
    "\n",
    "Ans: When a function returns, the local scope is destroyed, and all the variables in it are forgotten."
   ]
  },
  {
   "cell_type": "markdown",
   "metadata": {},
   "source": [
    "7. What is the concept of a return value? Is it possible to have a return value in an expression?\n",
    "\n",
    "Ans: The concept of a return value in programming refers to the value that a function can send back to the caller once it has executed its tasks. It allows functions to provide results or data that can be used further in the program. Yes, it is possible to have a return value in an expression. In short, a return value is the output that a function generates and can be used in expressions for calculations, assignments, or other operations."
   ]
  },
  {
   "cell_type": "markdown",
   "metadata": {},
   "source": [
    "8. If a function does not have a return statement, what is the return value of a call to that function?\n",
    "\n",
    "Ans: If there is no return statement for a function, its return value is `None`."
   ]
  },
  {
   "cell_type": "markdown",
   "metadata": {},
   "source": [
    "9. How do you make a function variable refer to the global variable?\n",
    "\n",
    "Ans: A global statement will force a variable in a function to refer to the global variable. If you want to refer to a global variable in a function, you can use the `global` keyword to declare which variables are global."
   ]
  },
  {
   "cell_type": "markdown",
   "metadata": {},
   "source": [
    "10. What is the data type of None?\n",
    "\n",
    "Ans: The data type of None is `NoneType`."
   ]
  },
  {
   "cell_type": "markdown",
   "metadata": {},
   "source": [
    "11. What does the sentence import areallyourpetsnamederic do?\n",
    "\n",
    "Ans: That import statement imports a module named areallyourpetsnamederic."
   ]
  },
  {
   "cell_type": "markdown",
   "metadata": {},
   "source": [
    "12. If you had a bacon() feature in a spam module, what would you call it after importing spam?\n",
    "\n",
    "Ans: The given function can be called using spam.bacon()."
   ]
  },
  {
   "cell_type": "markdown",
   "metadata": {},
   "source": [
    "13. What can you do to save a programme from crashing if it encounters an error?\n",
    "\n",
    "Ans: Place the line of code that might cause an error in a `try` clause and use `except` block to handle the error."
   ]
  },
  {
   "cell_type": "markdown",
   "metadata": {},
   "source": [
    "14. What is the purpose of the try clause? What is the purpose of the except clause?\n",
    "\n",
    "Ans: The purpose of the try clause is to enclose a block of code that might potentially raise exceptions. It allows the program to continue running even if an exception occurs within the block.\n",
    "\n",
    "The purpose of the except clause is to define a block of code that gets executed if an exception occurs within the corresponding try block. It provides a way to handle and manage exceptions gracefully without causing the program to crash."
   ]
  },
  {
   "cell_type": "markdown",
   "metadata": {},
   "source": []
  }
 ],
 "metadata": {
  "language_info": {
   "name": "python"
  },
  "orig_nbformat": 4
 },
 "nbformat": 4,
 "nbformat_minor": 2
}
