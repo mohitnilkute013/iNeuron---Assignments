{
 "cells": [
  {
   "cell_type": "markdown",
   "metadata": {},
   "source": [
    "## Assignment 7 Answers"
   ]
  },
  {
   "cell_type": "markdown",
   "metadata": {},
   "source": [
    "1. What is the name of the feature responsible for generating Regex objects?\n",
    "\n",
    "Ans: re.compile() is the feature responsible for generation of Regex objects.The re.compile() function is used to compile a regular expression pattern into a regex object, which can then be used for various matching and searching operations on strings. This helps improve performance when you need to use the same regular expression pattern multiple times."
   ]
  },
  {
   "cell_type": "code",
   "execution_count": 2,
   "metadata": {},
   "outputs": [
    {
     "name": "stdout",
     "output_type": "stream",
     "text": [
      "<class 're.Pattern'>\n",
      "re.compile('some_random_pattern')\n"
     ]
    }
   ],
   "source": [
    "import re\n",
    "x = re.compile(\"some_random_pattern\")\n",
    "print(type(x))\n",
    "print(x)"
   ]
  },
  {
   "cell_type": "markdown",
   "metadata": {},
   "source": [
    "2. Why do raw strings often appear in Regex objects?\n",
    "\n",
    "Ans: Raw strings (r\"...\") are often used in Regex objects to avoid having to escape backslashes. In regular expressions, backslashes are used as escape characters to represent special characters or sequences. However, in Python strings, backslashes are also used for escape characters (e.g., \\n for a newline). This can lead to conflicts and extra backslashes when writing regular expressions.\n",
    "\n",
    "Using raw strings, denoted by the r prefix, ensures that backslashes are treated as literal characters and not as escape characters within the string. This is especially useful in regular expressions where backslashes are commonly used to escape characters, making the patterns more readable and less error-prone."
   ]
  },
  {
   "cell_type": "markdown",
   "metadata": {},
   "source": [
    "3. What is the return value of the search() method?\n",
    "\n",
    "Ans: The return value of re.search(pattern,string) method is a match object if the pattern is observed in the string else it returns a None."
   ]
  },
  {
   "cell_type": "code",
   "execution_count": 3,
   "metadata": {},
   "outputs": [
    {
     "name": "stdout",
     "output_type": "stream",
     "text": [
      "Output: <re.Match object; span=(0, 1), match='I'>\n",
      "Output: None\n"
     ]
    }
   ],
   "source": [
    "import re\n",
    "match = re.search('i','Ineuron Full Stack Data Science Program', flags=re.IGNORECASE)\n",
    "print('Output:',match)\n",
    "match = re.search('X','Ineuron Full Stack Data Science Program', flags=re.IGNORECASE)\n",
    "print('Output:',match)"
   ]
  },
  {
   "cell_type": "markdown",
   "metadata": {},
   "source": [
    "4. From a Match item, how do you get the actual strings that match the pattern?\n",
    "\n",
    "Ans: For Matched items group() methods returns actual strings that match the pattern. By default, .group() without any arguments returns the entire matched string. You can also pass an argument to .group() to get the matched string of a specific capturing group within the pattern."
   ]
  },
  {
   "cell_type": "code",
   "execution_count": 7,
   "metadata": {},
   "outputs": [
    {
     "name": "stdout",
     "output_type": "stream",
     "text": [
      "<re.Match object; span=(10, 13), match='123'>\n",
      "123\n"
     ]
    }
   ],
   "source": [
    "import re\n",
    "\n",
    "pattern = r'\\d+'  # Match one or more digits\n",
    "text = 'There are 123 apples and 456 bananas.'\n",
    "\n",
    "match = re.search(pattern, text)\n",
    "print(match)\n",
    "if match:\n",
    "    matched_string = match.group()  # Get the entire matched string\n",
    "    print(matched_string)  # Output: 123\n"
   ]
  },
  {
   "cell_type": "markdown",
   "metadata": {},
   "source": [
    "5. In the regex which created from the r&#39;(\\d\\d\\d)-(\\d\\d\\d-\\d\\d\\d\\d)&#39;, what does group zero cover?\n",
    "Group 2? Group 1?\n",
    "\n",
    "Ans: In the Regex `r'(\\d\\d\\d)-(\\d\\d\\d-\\d\\d\\d\\d)'` the zero group covers the entire pattern match where as the first group covers the first parenthesis i.e. `(\\d\\d\\d)` and the second group covers the second parenthesis i.e. `(\\d\\d\\d-\\d\\d\\d\\d)`"
   ]
  },
  {
   "cell_type": "code",
   "execution_count": 1,
   "metadata": {},
   "outputs": [
    {
     "name": "stdout",
     "output_type": "stream",
     "text": [
      "('415', '555-4242')\n",
      "415-555-4242\n",
      "415\n",
      "555-4242\n"
     ]
    }
   ],
   "source": [
    "# Example Program\n",
    "import re\n",
    "phoneNumRe = re.compile(r'(\\d\\d\\d)-(\\d\\d\\d-\\d\\d\\d\\d)')\n",
    "phNo = phoneNumRe.search('Phone No.: 415-555-4242.')\n",
    "print(phNo.groups()) # Prints all groups in a tuple format\n",
    "print(phNo.group()) # Always returns the fully matched string \n",
    "print(phNo.group(1)) # Returns the first group\n",
    "print(phNo.group(2)) # Returns the second group"
   ]
  },
  {
   "cell_type": "markdown",
   "metadata": {},
   "source": [
    "6. In standard expression syntax, parentheses and intervals have distinct meanings. How can you tell\n",
    "a regex that you want it to fit real parentheses and periods?\n",
    "\n",
    "Ans: The `\\`. `\\(` and `\\)` escape characters in the raw string passed to re.compile() will match actual parenthesis characters."
   ]
  },
  {
   "cell_type": "code",
   "execution_count": 2,
   "metadata": {},
   "outputs": [
    {
     "name": "stdout",
     "output_type": "stream",
     "text": [
      "('(415)', '555-4242')\n",
      "(415)-555-4242\n",
      "(415)\n",
      "555-4242\n"
     ]
    }
   ],
   "source": [
    "# Example Program\n",
    "import re\n",
    "phoneNumRe = re.compile(r'(\\(\\d\\d\\d\\))-(\\d\\d\\d-\\d\\d\\d\\d)')\n",
    "phNo = phoneNumRe.search('Phone No.: (415)-555-4242.')\n",
    "print(phNo.groups()) # Prints all groups in a tuple format\n",
    "print(phNo.group()) # Always returns the fully matched string \n",
    "print(phNo.group(1)) # Returns the first group\n",
    "print(phNo.group(2)) # Returns the second group"
   ]
  },
  {
   "cell_type": "markdown",
   "metadata": {},
   "source": [
    "7. The findall() method returns a string list or a list of string tuples. What causes it to return one of\n",
    "the two options?\n",
    "\n",
    "Ans: If the regex pattern has no groups, a list of strings matched is returned. If the regex pattern has groups, a list of tuple of strings is returned."
   ]
  },
  {
   "cell_type": "code",
   "execution_count": 4,
   "metadata": {},
   "outputs": [
    {
     "name": "stdout",
     "output_type": "stream",
     "text": [
      "[('(415)', '555-4242')]\n",
      "['415-555-4242']\n"
     ]
    }
   ],
   "source": [
    "# Example Program\n",
    "import re\n",
    "phoneNumRe = re.compile(r'(\\(\\d\\d\\d\\))-(\\d\\d\\d-\\d\\d\\d\\d)')\n",
    "phNo = phoneNumRe.findall('Phone No.: (415)-555-4242.')\n",
    "print(phNo)\n",
    "\n",
    "# Example Program\n",
    "import re\n",
    "phoneNumRe = re.compile(r'\\d+-\\d+-\\d+')\n",
    "phNo = phoneNumRe.findall('Phone No.: 415-555-4242.')\n",
    "print(phNo)"
   ]
  },
  {
   "cell_type": "markdown",
   "metadata": {},
   "source": [
    "8. In standard expressions, what does the | character mean?\n",
    "\n",
    "Ans: In Standard Expressions `|` means `OR` operator."
   ]
  },
  {
   "cell_type": "markdown",
   "metadata": {},
   "source": [
    "9. In regular expressions, what does the ? character stand for?\n",
    "\n",
    "Ans: In regular Expressions, `?` characters represents zero or one match of the preceeding group."
   ]
  },
  {
   "cell_type": "code",
   "execution_count": 5,
   "metadata": {},
   "outputs": [
    {
     "name": "stdout",
     "output_type": "stream",
     "text": [
      "<re.Match object; span=(0, 6), match='Batman'>\n",
      "<re.Match object; span=(0, 8), match='Batwoman'>\n"
     ]
    }
   ],
   "source": [
    "# Example Program\n",
    "import re\n",
    "match_1 = re.search(\"Bat(wo)?man\",\"Batman returns\")\n",
    "print(match_1)\n",
    "match_2 = re.search(\"Bat(wo)?man\",\"Batwoman returns\")\n",
    "print(match_2)"
   ]
  },
  {
   "cell_type": "markdown",
   "metadata": {},
   "source": [
    "10. In regular expressions, what is the difference between the + and * characters?\n",
    "\n",
    "Ans: In Regular Expressions, `*` Represents Zero ore more occurances of the preceeding group, whereas `+` represents one or more occurances of the preceeding group."
   ]
  },
  {
   "cell_type": "code",
   "execution_count": 6,
   "metadata": {},
   "outputs": [
    {
     "name": "stdout",
     "output_type": "stream",
     "text": [
      "<re.Match object; span=(0, 6), match='Batman'>\n",
      "None\n"
     ]
    }
   ],
   "source": [
    "import re\n",
    "match_1 = re.search(\"Bat(wo)*man\",\"Batman returns\")\n",
    "print(match_1)\n",
    "match_2 = re.search(\"Bat(wo)+man\",\"Batman returns\")\n",
    "print(match_2)"
   ]
  },
  {
   "cell_type": "markdown",
   "metadata": {},
   "source": [
    "11. What is the difference between {4} and {4,5} in regular expression?\n",
    "\n",
    "Ans: `{4}` means that its preceeding group should repeat `4 times`, where as `{4,5}` means that its preceeding group should repeat `mininum 4 times and maximum 5 times` inclusively"
   ]
  },
  {
   "cell_type": "code",
   "execution_count": 8,
   "metadata": {},
   "outputs": [
    {
     "name": "stdout",
     "output_type": "stream",
     "text": [
      "HaHa\n",
      "None\n",
      "HaHaHa\n",
      "None\n"
     ]
    }
   ],
   "source": [
    "import re\n",
    "reg = re.compile(r'(Ha){2}')\n",
    "s1 = reg.search('HaHaHa')\n",
    "s2 = reg.search('Ha')\n",
    "print(s1.group())\n",
    "print(s2)\n",
    "reg = re.compile(r'(Ha){2,3}')\n",
    "s1 = reg.search('HaHaHaHa')\n",
    "s2 = reg.search('Ha')\n",
    "print(s1.group())\n",
    "print(s2)"
   ]
  },
  {
   "cell_type": "markdown",
   "metadata": {},
   "source": [
    "12. What do you mean by the \\d, \\w, and \\s shorthand character classes signify in regular expressions?\n",
    "\n",
    "Ans: \\d, \\w and \\s are special sequences in regular expresssions in python:\n",
    "\n",
    "\\w – Matches a word character equivalent to [a-zA-Z0-9_]<br>\n",
    "\\d – Matches digit character equivalent to [0-9]<br>\n",
    "\\s – Matches whitespace character (space, tab, newline, etc.)<br>"
   ]
  },
  {
   "cell_type": "markdown",
   "metadata": {},
   "source": [
    "13. What do means by \\D, \\W, and \\S shorthand character classes signify in regular expressions?\n",
    "\n",
    "Ans: \\D, \\W and \\S are special sequences in regular expresssions in python:\n",
    "\n",
    "\\W – Matches any non-alphanumeric character equivalent to [^a-zA-Z0-9_]<br>\n",
    "\\D – Matches any non-digit character, this is equivalent to the set class [^0-9]<br>\n",
    "\\S – Matches any non-whitespace character<br>"
   ]
  },
  {
   "cell_type": "markdown",
   "metadata": {},
   "source": [
    "14. What is the difference between `.*?` and `.*`?\n",
    "\n",
    "Ans: `.*` is a Greedy mode, which returns the longest string that meets the condition. Whereas `.*?` is a non greedy mode which returns the shortest string that meets the condition."
   ]
  },
  {
   "cell_type": "markdown",
   "metadata": {},
   "source": [
    "15. What is the syntax for matching both numbers and lowercase letters with a character class?\n",
    "\n",
    "Ans: The Synatax is either `[a-z0-9]` or `[0-9a-z]`."
   ]
  },
  {
   "cell_type": "markdown",
   "metadata": {},
   "source": [
    "16. What is the procedure for making a normal expression in regax case insensitive?\n",
    "\n",
    "Ans: We can pass `re.IGNORECASE` as a flag to make a noraml expression case insensitive"
   ]
  },
  {
   "cell_type": "markdown",
   "metadata": {},
   "source": [
    "17. What does the . character normally match? What does it match if re.DOTALL is passed as 2nd\n",
    "argument in re.compile()?\n",
    "\n",
    "Ans: Dot `.` character matches everything in input except newline character `.`. By passing `re.DOTALL` as a flag to `re.compile()`, you can make the dot character match all characters, including the newline character."
   ]
  },
  {
   "cell_type": "markdown",
   "metadata": {},
   "source": [
    "18. If numReg = re.compile(r&#39;\\d+&#39;), what will numRegex.sub(&#39;X&#39;, &#39;11 drummers, 10 pipers, five rings, 4\n",
    "hen&#39;) return?\n",
    "\n",
    "Ans: The Ouput will be `'X drummers, X pipers, five rings, X hen'`. It substitutes the regex groups with the given string i.e. `'X'`."
   ]
  },
  {
   "cell_type": "code",
   "execution_count": 9,
   "metadata": {},
   "outputs": [
    {
     "data": {
      "text/plain": [
       "'X drummers, X pipers, five rings, X hen'"
      ]
     },
     "execution_count": 9,
     "metadata": {},
     "output_type": "execute_result"
    }
   ],
   "source": [
    "import re\n",
    "numReg = re.compile(r'\\d+')\n",
    "numReg.sub('X', '11 drummers, 10 pipers, five rings, 4 hen')"
   ]
  },
  {
   "cell_type": "markdown",
   "metadata": {},
   "source": [
    "19. What does passing re.VERBOSE as the 2nd argument to re.compile() allow to do?\n",
    "\n",
    "Ans: `re.VERBOSE` will allow to add whitespace and comments to string passed to `re.compile()`."
   ]
  },
  {
   "cell_type": "code",
   "execution_count": 10,
   "metadata": {},
   "outputs": [],
   "source": [
    "# Without Using VERBOSE\n",
    "regex_email = re.compile(r'^([a-z0-9_\\.-]+)@([0-9a-z\\.-]+)\\.([a-z\\.]{2, 6})$', re.IGNORECASE)\n",
    " \n",
    "# Using VERBOSE\n",
    "regex_email = re.compile(r\"\"\"\n",
    "                            ^([a-z0-9_\\.-]+)              # local Part like username\n",
    "                            @                             # single @ sign \n",
    "                            ([0-9a-z\\.-]+)                # Domain name like google\n",
    "                            \\.                            # single Dot .\n",
    "                            ([a-z]{2,6})$                 # Top level Domain  like com/in/org\n",
    "                         \"\"\",re.VERBOSE | re.IGNORECASE)  "
   ]
  },
  {
   "cell_type": "markdown",
   "metadata": {},
   "source": [
    "20. How would you write a regex that match a number with comma for every three digits? It must\n",
    "match the given following:<br>\n",
    "&#39;42&#39;<br>\n",
    "&#39;1,234&#39;<br>\n",
    "&#39;6,368,745&#39;<br>\n",
    "but not the following:<br>\n",
    "&#39;12,34,567&#39; (which has only two digits between the commas)<br>\n",
    "&#39;1234&#39; (which lacks commas)<br>"
   ]
  },
  {
   "cell_type": "code",
   "execution_count": 22,
   "metadata": {},
   "outputs": [
    {
     "name": "stdout",
     "output_type": "stream",
     "text": [
      "Output: 42 -> <re.Match object; span=(0, 2), match='42'>\n",
      "Output: 1,234 -> <re.Match object; span=(0, 5), match='1,234'>\n",
      "Output: 6,368,745 -> <re.Match object; span=(0, 9), match='6,368,745'>\n",
      "Output: 12,34,567 -> None\n",
      "Output: 1234 -> None\n"
     ]
    }
   ],
   "source": [
    "import re\n",
    "pattern = r'^\\d{1,3}(,\\d{3})*$'\n",
    "pagex = re.compile(pattern)\n",
    "for ele in ['42','1,234', '6,368,745','12,34,567','1234']:\n",
    "    print('Output:',ele, '->', pagex.search(ele))"
   ]
  },
  {
   "cell_type": "markdown",
   "metadata": {},
   "source": [
    "21. How would you write a regex that matches the full name of someone whose last name is\n",
    "Watanabe? You can assume that the first name that comes before it will always be one word that\n",
    "begins with a capital letter. The regex must match the following:<br>\n",
    "&#39;Haruto Watanabe&#39;<br>\n",
    "&#39;Alice Watanabe&#39;<br>\n",
    "&#39;RoboCop Watanabe&#39;<br>\n",
    "but not the following:<br>\n",
    "&#39;haruto Watanabe&#39; (where the first name is not capitalized)<br>\n",
    "&#39;Mr. Watanabe&#39; (where the preceding word has a nonletter character)<br>\n",
    "&#39;Watanabe&#39; (which has no first name)<br>\n",
    "&#39;Haruto watanabe&#39; (where Watanabe is not capitalized)<br>"
   ]
  },
  {
   "cell_type": "code",
   "execution_count": 23,
   "metadata": {},
   "outputs": [
    {
     "name": "stdout",
     "output_type": "stream",
     "text": [
      "Output:  Haruto Watanabe -> <re.Match object; span=(0, 15), match='Haruto Watanabe'>\n",
      "Output:  Alice Watanabe -> <re.Match object; span=(0, 14), match='Alice Watanabe'>\n",
      "Output:  RoboCop Watanabe -> <re.Match object; span=(4, 16), match='Cop Watanabe'>\n",
      "Output:  haruto Watanabe -> None\n",
      "Output:  Mr. Watanabe -> None\n",
      "Output:  Watanabe -> None\n",
      "Output:  Haruto watanabe -> None\n"
     ]
    }
   ],
   "source": [
    "import re\n",
    "pattern = r'[A-Z]{1}[a-z]*\\sWatanabe'\n",
    "namex = re.compile(pattern)\n",
    "for name in ['Haruto Watanabe','Alice Watanabe','RoboCop Watanabe','haruto Watanabe','Mr. Watanabe','Watanabe','Haruto watanabe']:\n",
    "    print('Output: ',name,'->',namex.search(name))"
   ]
  },
  {
   "cell_type": "markdown",
   "metadata": {},
   "source": [
    "22. How would you write a regex that matches a sentence where the first word is either Alice, Bob,\n",
    "or Carol; the second word is either eats, pets, or throws; the third word is apples, cats, or baseballs;\n",
    "and the sentence ends with a period? This regex should be case-insensitive. It must match the\n",
    "following:<br>\n",
    "&#39;Alice eats apples.&#39;<br>\n",
    "&#39;Bob pets cats.&#39;<br>\n",
    "&#39;Carol throws baseballs.&#39;<br>\n",
    "&#39;Alice throws Apples.&#39;<br>\n",
    "&#39;BOB EATS CATS.&#39;<br>\n",
    "but not the following:<br>\n",
    "&#39;RoboCop eats apples.&#39;<br>\n",
    "&#39;ALICE THROWS FOOTBALLS.&#39;<br>\n",
    "&#39;Carol eats 7 cats.&#39;<br>"
   ]
  },
  {
   "cell_type": "code",
   "execution_count": 24,
   "metadata": {},
   "outputs": [
    {
     "name": "stdout",
     "output_type": "stream",
     "text": [
      "Output:  Alice eats apples. -> <re.Match object; span=(0, 18), match='Alice eats apples.'>\n",
      "Output:  Bob pets cats. -> <re.Match object; span=(0, 14), match='Bob pets cats.'>\n",
      "Output:  Carol throws baseballs. -> <re.Match object; span=(0, 23), match='Carol throws baseballs.'>\n",
      "Output:  Alice throws Apples. -> <re.Match object; span=(0, 20), match='Alice throws Apples.'>\n",
      "Output:  BOB EATS CATS. -> <re.Match object; span=(0, 14), match='BOB EATS CATS.'>\n",
      "Output:  RoboCop eats apples. -> None\n",
      "Output:  ALICE THROWS FOOTBALLS. -> None\n",
      "Output:  Carol eats 7 cats. -> None\n"
     ]
    }
   ],
   "source": [
    "import re\n",
    "pattern = r'(Alice|Bob|Carol)\\s(eats|pets|throws)\\s(apples|cats|baseballs)\\.'\n",
    "casex = re.compile(pattern,re.IGNORECASE)\n",
    "for ele in ['Alice eats apples.','Bob pets cats.','Carol throws baseballs.','Alice throws Apples.','BOB EATS CATS.','RoboCop eats apples.'\n",
    ",'ALICE THROWS FOOTBALLS.','Carol eats 7 cats.']:\n",
    "    print('Output: ',ele,'->',casex.search(ele))"
   ]
  },
  {
   "cell_type": "markdown",
   "metadata": {},
   "source": []
  }
 ],
 "metadata": {
  "kernelspec": {
   "display_name": "base",
   "language": "python",
   "name": "python3"
  },
  "language_info": {
   "codemirror_mode": {
    "name": "ipython",
    "version": 3
   },
   "file_extension": ".py",
   "mimetype": "text/x-python",
   "name": "python",
   "nbconvert_exporter": "python",
   "pygments_lexer": "ipython3",
   "version": "3.10.9"
  },
  "orig_nbformat": 4
 },
 "nbformat": 4,
 "nbformat_minor": 2
}
